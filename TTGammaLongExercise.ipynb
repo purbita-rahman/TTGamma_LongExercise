{
 "cells": [
  {
   "cell_type": "markdown",
   "metadata": {},
   "source": [
    "# Running the TTGammaProcessor"
   ]
  },
  {
   "cell_type": "markdown",
   "metadata": {},
   "source": [
    "This cell will copy the test files from their location on eos to your local area. This only needs to be done once!"
   ]
  },
  {
   "cell_type": "code",
   "execution_count": 1,
   "metadata": {},
   "outputs": [
    {
     "name": "stdout",
     "output_type": "stream",
     "text": [
      "[0B/0B][100%][==================================================][0B/s]  \n",
      "Run: [ERROR] Server responded with an error: [3006] File exists\n",
      "\n",
      "[0B/0B][100%][==================================================][0B/s]  \n",
      "Run: [ERROR] Server responded with an error: [3006] File exists\n",
      "\n",
      "[0B/0B][100%][==================================================][0B/s]  \n",
      "Run: [ERROR] Server responded with an error: [3006] File exists\n",
      "\n",
      "[0B/0B][100%][==================================================][0B/s]  \n",
      "Run: [ERROR] Server responded with an error: [3006] File exists\n",
      "\n",
      "[0B/0B][100%][==================================================][0B/s]  \n",
      "Run: [ERROR] Server responded with an error: [3006] File exists\n",
      "\n",
      "[0B/0B][100%][==================================================][0B/s]  \n",
      "Run: [ERROR] Server responded with an error: [3006] File exists\n",
      "\n"
     ]
    }
   ],
   "source": [
    "# #If you have not already done so, you can copy the files to test the code on from here\n",
    "# # ONLY NEEDS TO BE DONE ONCE, CAN BE COMMENTED OUT WHEN YOU \n",
    " !xrdcp root://cmseos.fnal.gov//store/user/cmsdas/2021/long_exercises/TTGamma/TestFiles/TTGamma_1l.root .\n",
    " !xrdcp root://cmseos.fnal.gov//store/user/cmsdas/2021/long_exercises/TTGamma/TestFiles/TTbar_1l.root .\n",
    " !xrdcp root://cmseos.fnal.gov//store/user/cmsdas/2021/long_exercises/TTGamma/TestFiles/WGamma.root .\n",
    " !xrdcp root://cmseos.fnal.gov//store/user/cmsdas/2021/long_exercises/TTGamma/TestFiles/ZGamma.root .\n",
    " !xrdcp root://cmseos.fnal.gov//store/user/cmsdas/2021/long_exercises/TTGamma/TestFiles/W4Jets.root .\n",
    " !xrdcp root://cmseos.fnal.gov//store/user/cmsdas/2021/long_exercises/TTGamma/TestFiles/ZJets.root ."
   ]
  },
  {
   "cell_type": "code",
   "execution_count": 2,
   "metadata": {},
   "outputs": [],
   "source": [
    "%reload_ext autoreload\n",
    "from coffea import util, processor\n",
    "from coffea.nanoevents import NanoEventsFactory, NanoAODSchema"
   ]
  },
  {
   "cell_type": "markdown",
   "metadata": {},
   "source": [
    "List of samples to be run on (fileset variable) and a dictionary containing the number of events processed for each sample"
   ]
  },
  {
   "cell_type": "code",
   "execution_count": 3,
   "metadata": {},
   "outputs": [],
   "source": [
    "fileset = {'TTGamma_SingleLept':['TTGamma_1l.root'],\n",
    "           'TTbarPowheg_Semilept':['TTbar_1l.root'],\n",
    "           'W4jets':['W4Jets.root'],\n",
    "           'WGamma_01J_5f':['WGamma.root'],\n",
    "           'ZGamma_01J_5f_lowMass':['ZGamma.root'],\n",
    "           'DYjetsM50':['ZJets.root'],\n",
    "        }\n",
    "\n"
   ]
  },
  {
   "cell_type": "markdown",
   "metadata": {},
   "source": [
    "Run the TTGammaProcessor on the list of files included in fileset.\n",
    "\n",
    "You can specify the chunksize and maximum number of chunks to process from each sample (selecting a small number of events and one chunk will force coffea to process only a subset of the events for quicker debugging)"
   ]
  },
  {
   "cell_type": "code",
   "execution_count": 11,
   "metadata": {},
   "outputs": [
    {
     "data": {
      "application/vnd.jupyter.widget-view+json": {
       "model_id": "a09ba32111724769830ce7ab43f7fea2",
       "version_major": 2,
       "version_minor": 0
      },
      "text/plain": [
       "Processing:   0%|          | 0/14 [00:00<?, ?chunk/s]"
      ]
     },
     "metadata": {},
     "output_type": "display_data"
    },
    {
     "name": "stderr",
     "output_type": "stream",
     "text": [
      "/uscms/home/pprova/nobackup/TTGamma_LongExercise/ttgenv/lib/python3.6/site-packages/coffea/util.py:91: FutureWarning: In coffea version 0.8, this will be an error.\n",
      "(Set coffea.deprecations_as_errors = True to get a stack trace now.)\n",
      "str: This utility has moved to the `coffea.analysis_tools` subpackage and has new features, check it out!\n",
      "  warnings.warn(message, FutureWarning)\n"
     ]
    },
    {
     "name": "stdout",
     "output_type": "stream",
     "text": [
      "Total time: 62.8 seconds\n",
      "Total rate: 20299.1 events / second\n"
     ]
    }
   ],
   "source": [
    "#autoreload forces the kernel to reload the processor to include any new changes\n",
    "%autoreload 2\n",
    "from ttgamma import TTGammaProcessor\n",
    "import awkward as ak\n",
    "\n",
    "import time\n",
    "tstart = time.time()\n",
    "\n",
    "#Run Coffea code using uproot\n",
    "output = processor.run_uproot_job(\n",
    "    fileset,\n",
    "    \"Events\",\n",
    "    TTGammaProcessor(isMC=True),\n",
    "    processor.iterative_executor,\n",
    "    executor_args={'schema': NanoAODSchema,'workers': 4},\n",
    "   # chunksize=1000,\n",
    "   # maxchunks=1,\n",
    ")\n",
    "\n",
    "elapsed = time.time() - tstart\n",
    "print(\"Total time: %.1f seconds\"%elapsed)\n",
    "print(\"Total rate: %.1f events / second\"%(output['EventCount'].value/elapsed))"
   ]
  },
  {
   "cell_type": "code",
   "execution_count": 12,
   "metadata": {},
   "outputs": [
    {
     "data": {
      "text/plain": [
       "{'all_photon_pt': <Hist (dataset,pt) instance at 0x7faa3c95ff28>,\n",
       " 'photon_pt': <Hist (dataset,pt,category,lepFlavor,systematic) instance at 0x7faa3c95fdd8>,\n",
       " 'photon_eta': <Hist (dataset,eta,category,lepFlavor,systematic) instance at 0x7faa3c95fcf8>,\n",
       " 'photon_chIso': <Hist (dataset,chIso,category,lepFlavor,systematic) instance at 0x7faa3c95fc18>,\n",
       " 'photon_lepton_mass_3j0t': <Hist (dataset,mass,category,lepFlavor,systematic) instance at 0x7faa3c95fb70>,\n",
       " 'M3': <Hist (dataset,M3,category,lepFlavor,systematic) instance at 0x7faa3c95fa20>,\n",
       " 'EventCount': value_accumulator(int, 1274912)}"
      ]
     },
     "execution_count": 12,
     "metadata": {},
     "output_type": "execute_result"
    }
   ],
   "source": [
    "output"
   ]
  },
  {
   "cell_type": "code",
   "execution_count": 17,
   "metadata": {},
   "outputs": [
    {
     "data": {
      "text/plain": [
       "<matplotlib.axes._subplots.AxesSubplot at 0x7faa39f77a20>"
      ]
     },
     "execution_count": 17,
     "metadata": {},
     "output_type": "execute_result"
    },
    {
     "data": {
      "image/png": "[encoded data removed]",
      "text/plain": [
       "<Figure size 432x288 with 1 Axes>"
      ]
     },
     "metadata": {
      "needs_background": "light"
     },
     "output_type": "display_data"
    }
   ],
   "source": [
    "from coffea import hist\n",
    "\n",
    "\n",
    "#hist.plot1d(output['photon_pt'].sum('category').sum('lepFlavor').integrate('dataset','TTGamma_SingleLept'), overlay='systematic')\n",
    "\n",
    "import matplotlib.pylab as plt\n",
    "plt.yscale('log')\n",
    "hist.plot1d(output['photon_chIso'].sum('category').sum('lepFlavor').integrate('dataset','TTGamma_SingleLept'), overlay='systematic')"
   ]
  },
  {
   "cell_type": "markdown",
   "metadata": {},
   "source": [
    "\n",
    "# Accessing Arrays Interactively"
   ]
  },
  {
   "cell_type": "markdown",
   "metadata": {},
   "source": [
    "Below is an example of loading a NanoAOD file interactively. This can be very useful for developing the code, and debugging any issues. Use this area to build your intuition for working with Coffea and awkward arrays!"
   ]
  },
  {
   "cell_type": "code",
   "execution_count": 26,
   "metadata": {},
   "outputs": [],
   "source": [
    "import awkward as ak\n",
    "from coffea.nanoevents import NanoEventsFactory, NanoAODSchema\n",
    "\n",
    "fname = \"./TTGamma_1l.root\"\n",
    "events = NanoEventsFactory.from_root(fname, schemaclass=NanoAODSchema).events()"
   ]
  },
  {
   "cell_type": "markdown",
   "metadata": {},
   "source": [
    "Once you have opened the file, you can explore its contents using the 'fields' syntax"
   ]
  },
  {
   "cell_type": "code",
   "execution_count": 27,
   "metadata": {},
   "outputs": [
    {
     "data": {
      "text/plain": [
       "['PSWeight',\n",
       " 'luminosityBlock',\n",
       " 'run',\n",
       " 'Generator',\n",
       " 'GenPart',\n",
       " 'GenJet',\n",
       " 'fixedGridRhoFastjetAll',\n",
       " 'LHEScaleWeight',\n",
       " 'Muon',\n",
       " 'Photon',\n",
       " 'LHEPdfWeight',\n",
       " 'Pileup',\n",
       " 'HLT',\n",
       " 'event',\n",
       " 'MET',\n",
       " 'Electron',\n",
       " 'Jet',\n",
       " 'GenMET',\n",
       " 'Flag',\n",
       " 'LHEWeight']"
      ]
     },
     "execution_count": 27,
     "metadata": {},
     "output_type": "execute_result"
    }
   ],
   "source": [
    "events.fields"
   ]
  },
  {
   "cell_type": "code",
   "execution_count": 28,
   "metadata": {},
   "outputs": [
    {
     "data": {
      "text/plain": [
       "['eta',\n",
       " 'mass',\n",
       " 'phi',\n",
       " 'pt',\n",
       " 'genPartIdxMother',\n",
       " 'pdgId',\n",
       " 'status',\n",
       " 'statusFlags',\n",
       " 'genPartIdxMotherG',\n",
       " 'distinctParentIdxG',\n",
       " 'childrenIdxG',\n",
       " 'distinctChildrenIdxG']"
      ]
     },
     "execution_count": 28,
     "metadata": {},
     "output_type": "execute_result"
    }
   ],
   "source": [
    "events.GenPart.fields"
   ]
  },
  {
   "cell_type": "markdown",
   "metadata": {},
   "source": [
    "There is also a docstring for each of these variables in NanoAOD, which you can access using '?':"
   ]
  },
  {
   "cell_type": "code",
   "execution_count": 29,
   "metadata": {},
   "outputs": [],
   "source": [
    "events.Jet.rawFactor?\n",
    "\n"
   ]
  },
  {
   "cell_type": "code",
   "execution_count": 30,
   "metadata": {},
   "outputs": [
    {
     "data": {
      "text/plain": [
       "<NanoCollectionArray [{nPU: 40, ... nTrueInt: 27}] type='284276 * struct[[\"nTrue...'>"
      ]
     },
     "execution_count": 30,
     "metadata": {},
     "output_type": "execute_result"
    }
   ],
   "source": [
    "events.Pileup\n"
   ]
  },
  {
   "cell_type": "code",
   "execution_count": null,
   "metadata": {},
   "outputs": [],
   "source": []
  },
  {
   "cell_type": "code",
   "execution_count": null,
   "metadata": {},
   "outputs": [],
   "source": []
  },
  {
   "cell_type": "code",
   "execution_count": null,
   "metadata": {},
   "outputs": [],
   "source": []
  }
 ],
 "metadata": {
  "kernelspec": {
   "display_name": "ttgenv",
   "language": "python",
   "name": "ttgenv"
  },
  "language_info": {
   "codemirror_mode": {
    "name": "ipython",
    "version": 3
   },
   "file_extension": ".py",
   "mimetype": "text/x-python",
   "name": "python",
   "nbconvert_exporter": "python",
   "pygments_lexer": "ipython3",
   "version": "3.6.5"
  }
 },
 "nbformat": 4,
 "nbformat_minor": 2
}
